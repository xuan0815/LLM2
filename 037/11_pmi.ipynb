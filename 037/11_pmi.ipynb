{
  "nbformat": 4,
  "nbformat_minor": 0,
  "metadata": {
    "colab": {
      "provenance": []
    },
    "kernelspec": {
      "name": "python3",
      "display_name": "Python 3"
    },
    "language_info": {
      "name": "python"
    }
  },
  "cells": [
    {
      "cell_type": "markdown",
      "source": [
        "##**PMI (Pointwise Mutual Information)**\n",
        "\n",
        "\n",
        "*   PMI是利用分散式表示法，表達字詞意思的其中一種\n",
        "*   分散的定義，就是一個詞並非本身所決定，是「分散在其旁」的其它元素所決定\n",
        "*   PMI則是計算那些字比較容易一起出現\n",
        "*   例如：在新聞報導中，有\"New\"，\"York\"這兩個字一起出現，代表一個地名，所以當出現了New這個字，則有可能出現York，這個可能性就是計算其PMI\n",
        "*   下面的範例，則是給定一個M擁有十個字詞，每個字詞與其他字詞的出現次數統計，然後去計算其PMI\n",
        "*  \n",
        "\n"
      ],
      "metadata": {
        "id": "kpdhvH6qyNOW"
      }
    },
    {
      "cell_type": "code",
      "execution_count": 2,
      "metadata": {
        "colab": {
          "base_uri": "https://localhost:8080/"
        },
        "id": "o-H_C9AFyLrG",
        "outputId": "0fce4c85-661c-4b83-ae10-e4e1786ca560"
      },
      "outputs": [
        {
          "output_type": "stream",
          "name": "stdout",
          "text": [
            "[[0.   0.18 0.   0.   0.   0.41 0.41 0.41 0.41 0.33]\n",
            " [0.29 0.   0.08 0.37 0.08 0.   0.   0.08 0.77 0.29]\n",
            " [0.18 0.44 0.   0.96 0.67 0.   0.   0.   0.   0.18]\n",
            " [0.18 0.44 0.67 0.   0.67 0.   0.   0.   0.   0.18]\n",
            " [0.   0.26 1.18 0.77 0.   0.   0.   0.   0.   0.  ]\n",
            " [0.41 0.   0.   0.   0.   0.   1.58 0.89 0.   0.41]\n",
            " [0.   0.   1.18 0.   0.   1.18 0.   0.49 0.   0.  ]\n",
            " [0.29 0.55 0.   0.   0.   0.77 0.77 0.   0.77 0.29]\n",
            " [0.41 0.67 0.   0.   0.   0.   0.   0.89 0.   0.41]\n",
            " [0.06 0.   0.   0.42 0.83 0.14 0.14 0.14 0.14 0.  ]]\n"
          ]
        }
      ],
      "source": [
        "import numpy as np\n",
        "# 定義一個矩陣 M\n",
        "M = np.array([[0, 2, 1, 1, 1, 1, 1, 2, 1, 3],\n",
        "              [2, 0, 1, 1, 1, 0, 0, 1, 1, 2],\n",
        "              [1, 1, 0, 1, 1, 0, 0, 0, 0, 1],\n",
        "              [1, 1, 1, 0, 1, 0, 0, 0, 0, 1],\n",
        "              [1, 1, 2, 1, 0, 0, 0, 0, 0, 1],\n",
        "              [1, 0, 0, 0, 0, 0, 1, 1, 0, 1],\n",
        "              [1, 0, 2, 0, 0, 1, 0, 1, 0, 1],\n",
        "              [2, 2, 0, 0, 0, 1, 1, 0, 1, 2],\n",
        "              [1, 1, 0, 0, 0, 0, 0, 1, 0, 1],\n",
        "              [3, 2, 1, 2, 4, 1, 1, 2, 1, 0]])\n",
        "\n",
        "def pmi(M, positive=True):\n",
        "   # 計算列和行的總和\n",
        "    col_totals = M.sum(axis=0)\n",
        "    row_totals = M.sum(axis=1)\n",
        "    total = col_totals.sum()\n",
        "    # 計算期望值\n",
        "    expected = np.outer(row_totals, col_totals) / total\n",
        "    M = M / expected\n",
        "     # 使用 np.log 計算 PMI\n",
        "    with np.errstate(divide='ignore'):\n",
        "        M = np.log(M)\n",
        "    M[np.isinf(M)] = 0.0  # log(0) = 0\n",
        "     # 如果 positive 為 True，則將負值設為 0\n",
        "    if positive:\n",
        "        M[M < 0] = 0.0\n",
        "    return M\n",
        "# 計算 PMI\n",
        "M_pmi = pmi(M)\n",
        "# 設定印出數值的精確度\n",
        "np.set_printoptions(precision=2)\n",
        "# 顯示計算後的 PMI 矩陣\n",
        "print(M_pmi)\n",
        ""
      ]
    }
  ]
}